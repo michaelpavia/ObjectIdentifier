{
 "cells": [
  {
   "cell_type": "markdown",
   "metadata": {},
   "source": [
    "## Imports"
   ]
  },
  {
   "cell_type": "code",
   "execution_count": 1,
   "metadata": {},
   "outputs": [],
   "source": [
    "import tensorflow as tf\n",
    "\n",
    "#Useful Stuff y'know\n",
    "from tensorflow.keras import datasets, layers, models\n",
    "from sklearn.model_selection import train_test_split\n",
    "import matplotlib.pyplot as plt\n",
    "import matplotlib.image as im\n",
    "from PIL import Image as PILImage\n",
    "import numpy as np\n",
    "import pandas as pd\n",
    "\n",
    "# File Management\n",
    "import os\n",
    "from xml.etree import ElementTree as ET"
   ]
  },
  {
   "cell_type": "code",
   "execution_count": 2,
   "metadata": {},
   "outputs": [],
   "source": [
    "classNames = ['keyboard', 'mouse', 'monitor']\n",
    "imageShrink = (64, 64)"
   ]
  },
  {
   "cell_type": "markdown",
   "metadata": {},
   "source": [
    "## Import Images (to be changed to use XML)"
   ]
  },
  {
   "cell_type": "code",
   "execution_count": 3,
   "metadata": {},
   "outputs": [],
   "source": [
    "imageList = []\n",
    "imageDir = 'images/'\n",
    "\n",
    "for file in os.listdir(imageDir):\n",
    "    filename = os.fsdecode(file)\n",
    "    if filename.endswith(\".jpg\"):\n",
    "        image = im.imread(imageDir + file)\n",
    "        #image = image / 255.0\n",
    "        imageList.append(image)"
   ]
  },
  {
   "cell_type": "code",
   "execution_count": 4,
   "metadata": {},
   "outputs": [
    {
     "data": {
      "text/plain": [
       "array([[[103, 113, 149],\n",
       "        [ 92, 102, 137],\n",
       "        [ 70,  80, 115],\n",
       "        ...,\n",
       "        [166, 160, 124],\n",
       "        [169, 163, 127],\n",
       "        [174, 168, 132]],\n",
       "\n",
       "       [[104, 114, 150],\n",
       "        [ 99, 109, 144],\n",
       "        [ 85,  95, 130],\n",
       "        ...,\n",
       "        [166, 160, 124],\n",
       "        [167, 161, 125],\n",
       "        [172, 166, 130]],\n",
       "\n",
       "       [[ 97, 107, 142],\n",
       "        [105, 115, 150],\n",
       "        [109, 119, 154],\n",
       "        ...,\n",
       "        [165, 159, 123],\n",
       "        [166, 160, 124],\n",
       "        [170, 164, 128]],\n",
       "\n",
       "       ...,\n",
       "\n",
       "       [[ 71,  77,  73],\n",
       "        [ 73,  79,  75],\n",
       "        [ 74,  80,  76],\n",
       "        ...,\n",
       "        [ 27,  28,  23],\n",
       "        [ 30,  31,  26],\n",
       "        [ 33,  34,  29]],\n",
       "\n",
       "       [[ 72,  78,  74],\n",
       "        [ 72,  78,  74],\n",
       "        [ 73,  79,  75],\n",
       "        ...,\n",
       "        [ 28,  29,  24],\n",
       "        [ 29,  30,  25],\n",
       "        [ 30,  31,  26]],\n",
       "\n",
       "       [[ 71,  77,  73],\n",
       "        [ 70,  76,  72],\n",
       "        [ 68,  74,  70],\n",
       "        ...,\n",
       "        [ 29,  30,  25],\n",
       "        [ 29,  30,  25],\n",
       "        [ 29,  30,  25]]], dtype=uint8)"
      ]
     },
     "execution_count": 4,
     "metadata": {},
     "output_type": "execute_result"
    }
   ],
   "source": [
    "imageList[0]"
   ]
  },
  {
   "cell_type": "markdown",
   "metadata": {},
   "source": [
    "## Import Annotation XMLs"
   ]
  },
  {
   "cell_type": "code",
   "execution_count": 5,
   "metadata": {},
   "outputs": [],
   "source": [
    "annotationsList = []\n",
    "annotationsDir = 'annotations/xml/'\n",
    "\n",
    "for file in os.listdir(annotationsDir):\n",
    "    xml = ET.parse(annotationsDir + file)\n",
    "    annotationsList.append(xml)"
   ]
  },
  {
   "cell_type": "markdown",
   "metadata": {},
   "source": [
    "## Isolate selected objects in image for model training"
   ]
  },
  {
   "cell_type": "code",
   "execution_count": 6,
   "metadata": {},
   "outputs": [
    {
     "data": {
      "text/plain": [
       "107"
      ]
     },
     "execution_count": 6,
     "metadata": {},
     "output_type": "execute_result"
    }
   ],
   "source": [
    "maxObjs = 0\n",
    "for annotation in annotationsList:\n",
    "    for obj in annotation.iter('object'):\n",
    "        maxObjs += 1\n",
    "        \n",
    "maxObjs"
   ]
  },
  {
   "cell_type": "code",
   "execution_count": 7,
   "metadata": {},
   "outputs": [
    {
     "name": "stdout",
     "output_type": "stream",
     "text": [
      "<Element 'object' at 0x7f673a68f090>\n"
     ]
    }
   ],
   "source": [
    "print(annotationsList[0].getroot()[6])\n",
    "\n",
    "obj = annotationsList[0].getroot()[6]\n",
    "xmin = int(obj[4][0].text)\n",
    "ymin = int(obj[4][1].text)\n",
    "xmax = int(obj[4][2].text)\n",
    "ymax = int(obj[4][3].text)\n",
    "\n",
    "image = PILImage.fromarray(imageList[0][ymin:ymax, xmin:xmax]).resize((64, 64), PILImage.BILINEAR)\n",
    "pixels = list(image.getdata())\n",
    "for i in range(len(pixels)):\n",
    "    pixels[i] = list(pixels[i])\n",
    "width, height = image.size\n",
    "pixels = [pixels[i * width:(i + 1) * width] for i in range(height)]"
   ]
  },
  {
   "cell_type": "code",
   "execution_count": 8,
   "metadata": {},
   "outputs": [
    {
     "data": {
      "image/png": "[encoded data removed]",
      "text/plain": [
       "<Figure size 432x288 with 1 Axes>"
      ]
     },
     "metadata": {
      "needs_background": "light"
     },
     "output_type": "display_data"
    }
   ],
   "source": [
    "objectList = []\n",
    "objectLabels = []\n",
    "index = 0\n",
    "\n",
    "for annotation in annotationsList:\n",
    "    for obj in annotation.iter('object'):\n",
    "        xmin = int(obj[4][0].text)\n",
    "        ymin = int(obj[4][1].text)\n",
    "        xmax = int(obj[4][2].text)\n",
    "        ymax = int(obj[4][3].text)\n",
    "\n",
    "        type = obj[0].text\n",
    "\n",
    "        if type == 'keyboard':\n",
    "            key = 0\n",
    "        elif type == 'mouse':\n",
    "            key = 1\n",
    "        elif type == 'monitor':\n",
    "            key = 2\n",
    "\n",
    "            \n",
    "        #Resize image to 64x64\n",
    "        image = PILImage.fromarray(imageList[0][ymin:ymax, xmin:xmax]).resize((64, 64), PILImage.BILINEAR)\n",
    "        pixels = list(image.getdata())\n",
    "        for i in range(len(pixels)):\n",
    "            pixels[i] = list(pixels[i])\n",
    "        width, height = image.size\n",
    "        pixels = [pixels[i * width:(i + 1) * width] for i in range(height)]\n",
    "\n",
    "        for r in range(len(pixels)):\n",
    "            for c in range(len(pixels[r])):\n",
    "                pixels[r][c] = list(np.asarray(pixels[r][c]) / 255)\n",
    "        \n",
    "        objectLabels.append(key)\n",
    "        objectList.append(pixels)\n",
    "    \n",
    "    index += 1\n",
    "    \n",
    "plt.imshow(objectList[0])\n",
    "plt.show()"
   ]
  },
  {
   "cell_type": "markdown",
   "metadata": {},
   "source": [
    "### Split into training and testing set"
   ]
  },
  {
   "cell_type": "code",
   "execution_count": 9,
   "metadata": {},
   "outputs": [],
   "source": [
    "trainObjs, testObjs, trainLabels, testLabels = train_test_split(objectList, objectLabels, test_size=0.3)\n",
    "\n",
    "trainObjs = np.array(trainObjs)\n",
    "testObjs = np.array(testObjs)\n",
    "trainLabels = np.array(trainLabels)\n",
    "testLabels = np.array(testLabels)\n",
    "\n",
    "#plt.imshow(trainObjs[0])\n",
    "#plt.show()"
   ]
  },
  {
   "cell_type": "code",
   "execution_count": 10,
   "metadata": {},
   "outputs": [],
   "source": [
    "#trainObjs = tf.ragged.constant(trainObjs)\n",
    "#testObjs = tf.ragged.constant(testObjs, dtype=tf.float32)\n",
    "#trainLabels = tf.convert_to_tensor(trainLabels, dtype=tf.float32)\n",
    "#testLabels = tf.convert_to_tensor(testLabels, dtype=tf.float32)"
   ]
  },
  {
   "cell_type": "markdown",
   "metadata": {},
   "source": [
    "## Build CNN Model"
   ]
  },
  {
   "cell_type": "code",
   "execution_count": 11,
   "metadata": {},
   "outputs": [
    {
     "name": "stdout",
     "output_type": "stream",
     "text": [
      "Model: \"sequential\"\n",
      "_________________________________________________________________\n",
      "Layer (type)                 Output Shape              Param #   \n",
      "=================================================================\n",
      "conv2d (Conv2D)              (None, 62, 62, 64)        1792      \n",
      "_________________________________________________________________\n",
      "max_pooling2d (MaxPooling2D) (None, 31, 31, 64)        0         \n",
      "_________________________________________________________________\n",
      "conv2d_1 (Conv2D)            (None, 29, 29, 64)        36928     \n",
      "_________________________________________________________________\n",
      "max_pooling2d_1 (MaxPooling2 (None, 14, 14, 64)        0         \n",
      "_________________________________________________________________\n",
      "conv2d_2 (Conv2D)            (None, 12, 12, 64)        36928     \n",
      "_________________________________________________________________\n",
      "flatten (Flatten)            (None, 9216)              0         \n",
      "_________________________________________________________________\n",
      "dense (Dense)                (None, 64)                589888    \n",
      "_________________________________________________________________\n",
      "dense_1 (Dense)              (None, 3)                 195       \n",
      "=================================================================\n",
      "Total params: 665,731\n",
      "Trainable params: 665,731\n",
      "Non-trainable params: 0\n",
      "_________________________________________________________________\n"
     ]
    }
   ],
   "source": [
    "model = models.Sequential()\n",
    "model.add(layers.Conv2D(64, (3, 3), activation='relu', input_shape=(64, 64, 3)))\n",
    "model.add(layers.MaxPooling2D((2, 2)))\n",
    "model.add(layers.Conv2D(64, (3, 3), activation='relu'))\n",
    "model.add(layers.MaxPooling2D((2, 2)))\n",
    "model.add(layers.Conv2D(64, (3, 3), activation='relu'))\n",
    "model.add(layers.Flatten())\n",
    "model.add(layers.Dense(64, activation='relu'))\n",
    "model.add(layers.Dense(3))\n",
    "model.summary()"
   ]
  },
  {
   "cell_type": "markdown",
   "metadata": {},
   "source": [
    "## Compile and fit model"
   ]
  },
  {
   "cell_type": "code",
   "execution_count": 31,
   "metadata": {
    "scrolled": true
   },
   "outputs": [
    {
     "name": "stdout",
     "output_type": "stream",
     "text": [
      "Epoch 1/10\n",
      "3/3 [==============================] - 0s 83ms/step - loss: 0.0900 - accuracy: 0.9595 - val_loss: 4.6911 - val_accuracy: 0.4242\n",
      "Epoch 2/10\n",
      "3/3 [==============================] - 0s 52ms/step - loss: 0.0554 - accuracy: 0.9865 - val_loss: 4.7572 - val_accuracy: 0.3939\n",
      "Epoch 3/10\n",
      "3/3 [==============================] - 0s 54ms/step - loss: 0.0557 - accuracy: 0.9865 - val_loss: 5.0012 - val_accuracy: 0.4242\n",
      "Epoch 4/10\n",
      "3/3 [==============================] - 0s 48ms/step - loss: 0.0404 - accuracy: 0.9730 - val_loss: 5.1042 - val_accuracy: 0.4545\n",
      "Epoch 5/10\n",
      "3/3 [==============================] - 0s 46ms/step - loss: 0.0298 - accuracy: 0.9865 - val_loss: 5.4270 - val_accuracy: 0.4242\n",
      "Epoch 6/10\n",
      "3/3 [==============================] - 0s 55ms/step - loss: 0.0461 - accuracy: 0.9865 - val_loss: 5.4361 - val_accuracy: 0.4545\n",
      "Epoch 7/10\n",
      "3/3 [==============================] - 0s 49ms/step - loss: 0.0356 - accuracy: 0.9865 - val_loss: 5.5089 - val_accuracy: 0.4848\n",
      "Epoch 8/10\n",
      "3/3 [==============================] - 0s 74ms/step - loss: 0.0362 - accuracy: 0.9865 - val_loss: 5.1662 - val_accuracy: 0.4545\n",
      "Epoch 9/10\n",
      "3/3 [==============================] - 0s 52ms/step - loss: 0.0407 - accuracy: 0.9865 - val_loss: 5.7181 - val_accuracy: 0.5152\n",
      "Epoch 10/10\n",
      "3/3 [==============================] - 0s 75ms/step - loss: 0.0575 - accuracy: 0.9730 - val_loss: 5.6169 - val_accuracy: 0.5152\n"
     ]
    }
   ],
   "source": [
    "model.compile(optimizer='adam',\n",
    "              loss=tf.keras.losses.SparseCategoricalCrossentropy(from_logits=True),\n",
    "              metrics=['accuracy'])\n",
    "\n",
    "history = model.fit(trainObjs, trainLabels, epochs=10, \n",
    "                    validation_data=(testObjs, testLabels))"
   ]
  },
  {
   "cell_type": "code",
   "execution_count": 30,
   "metadata": {},
   "outputs": [
    {
     "name": "stdout",
     "output_type": "stream",
     "text": [
      "2/2 - 0s - loss: 4.0945 - accuracy: 0.4242\n",
      "0.42424243688583374\n"
     ]
    }
   ],
   "source": [
    "loss, acc = model.evaluate(testObjs,  testLabels, verbose=2)\n",
    "print(acc)"
   ]
  }
 ],
 "metadata": {
  "kernelspec": {
   "display_name": "Python 3",
   "language": "python",
   "name": "python3"
  },
  "language_info": {
   "codemirror_mode": {
    "name": "ipython",
    "version": 3
   },
   "file_extension": ".py",
   "mimetype": "text/x-python",
   "name": "python",
   "nbconvert_exporter": "python",
   "pygments_lexer": "ipython3",
   "version": "3.8.2"
  }
 },
 "nbformat": 4,
 "nbformat_minor": 4
}
